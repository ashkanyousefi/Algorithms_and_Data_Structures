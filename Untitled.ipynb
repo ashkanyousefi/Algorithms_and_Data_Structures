{
 "cells": [
  {
   "cell_type": "markdown",
   "metadata": {},
   "source": [
    "This is adopted from the Udacity Algorithms and data structures"
   ]
  },
  {
   "cell_type": "markdown",
   "metadata": {},
   "source": [
    "# The following steps are the core for the general algorithm questions:\n",
    "#### Clarify the question\n",
    "#### Determine the inputs and the outputs including the edge cases\n",
    "#### Generate test cases\n",
    "#### Brainstorm\n",
    "#### Runtime analysis\n",
    "#### Coding \n",
    "#### Debuging"
   ]
  },
  {
   "cell_type": "markdown",
   "metadata": {},
   "source": [
    "### Q1-Calculate the date differences between two points"
   ]
  },
  {
   "cell_type": "code",
   "execution_count": 23,
   "metadata": {},
   "outputs": [
    {
     "name": "stdout",
     "output_type": "stream",
     "text": [
      "35.9041095890411\n"
     ]
    }
   ],
   "source": [
    "from datetime import date\n",
    "Birth_Date = date(1983,9,21)\n",
    "Today_Date =date.today()\n",
    "Age = Today_Date - Birth_Date\n",
    "days=(Age.days)\n",
    "print(days/365)"
   ]
  },
  {
   "cell_type": "code",
   "execution_count": 25,
   "metadata": {},
   "outputs": [
    {
     "name": "stdout",
     "output_type": "stream",
     "text": [
      "13105\n"
     ]
    }
   ],
   "source": [
    "from datetime import date\n",
    "Birth_Date=date(1983,9,21)\n",
    "Today=date.today()\n",
    "Age=(Today-Birth_Date).days\n",
    "print(Age)"
   ]
  },
  {
   "cell_type": "markdown",
   "metadata": {},
   "source": [
    "#### The major algorithms steps to solve the problems:\n",
    "#### 1-Do not panic\n",
    "#### 2-Think about the inputs\n",
    "#### 3-Think about the outputs\n",
    "#### 4-Think about how to map the inputs to the putputs by investigating some example. This will enable us to create some test cases as well which can be used for testing our algorithms\n",
    "#### 5-Try to solve one example as a human by taking a systematic approach\n",
    "#### 6-Try to write your algorithm in Pseudocode to remove the complexity of the Python syntax\n",
    "\n",
    "\n",
    "\n"
   ]
  },
  {
   "cell_type": "code",
   "execution_count": null,
   "metadata": {},
   "outputs": [],
   "source": []
  }
 ],
 "metadata": {
  "kernelspec": {
   "display_name": "Python 3",
   "language": "python",
   "name": "python3"
  },
  "language_info": {
   "codemirror_mode": {
    "name": "ipython",
    "version": 3
   },
   "file_extension": ".py",
   "mimetype": "text/x-python",
   "name": "python",
   "nbconvert_exporter": "python",
   "pygments_lexer": "ipython3",
   "version": "3.7.3"
  }
 },
 "nbformat": 4,
 "nbformat_minor": 2
}
