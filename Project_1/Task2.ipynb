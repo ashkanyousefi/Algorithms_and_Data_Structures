{
 "cells": [
  {
   "cell_type": "markdown",
   "metadata": {},
   "source": [
    "### Task2\n",
    "The task 2 has a big O of 2n means that with the scaling of the input the runtime grows with 2n and I realized that with combination of two loops the run time could be reduced to n from 2n. There is a possibility to gain 100% efficiency can be gained."
   ]
  },
  {
   "cell_type": "code",
   "execution_count": null,
   "metadata": {},
   "outputs": [],
   "source": [
    "\"\"\"\n",
    "Read file into texts and calls.\n",
    "It's ok if you don't understand how to read files\n",
    "\"\"\"\n",
    "import csv\n",
    "with open('texts.csv', 'r') as f:\n",
    "    reader = csv.reader(f)\n",
    "    texts = list(reader)\n",
    "\n",
    "with open('calls.csv', 'r') as f:\n",
    "    reader = csv.reader(f)\n",
    "    calls = list(reader)\n",
    "\n",
    "\"\"\"\n",
    "TASK 2: Which telephone number spent the longest time on the phone\n",
    "during the period? Don't forget that time spent answering a call is\n",
    "also time spent on the phone.\n",
    "Print a message:\n",
    "\"<telephone number> spent the longest time, <total time> seconds, on the phone during \n",
    "September 2016.\".\n",
    "\"\"\"\n",
    "Call_Duration=[row[3] for row in calls]\n",
    "Max_Duration=max(Call_Duration)\n",
    "\n",
    "for row in calls:\n",
    "    if row[3]==Max_Duration:\n",
    "        print('The longest time spent belongs to: \\n phone number: {0} \\n phone_number: {1}'.format(row[0],row[1]))\n"
   ]
  },
  {
   "cell_type": "code",
   "execution_count": null,
   "metadata": {},
   "outputs": [],
   "source": []
  },
  {
   "cell_type": "code",
   "execution_count": null,
   "metadata": {},
   "outputs": [],
   "source": []
  }
 ],
 "metadata": {
  "kernelspec": {
   "display_name": "Python 3",
   "language": "python",
   "name": "python3"
  },
  "language_info": {
   "codemirror_mode": {
    "name": "ipython",
    "version": 3
   },
   "file_extension": ".py",
   "mimetype": "text/x-python",
   "name": "python",
   "nbconvert_exporter": "python",
   "pygments_lexer": "ipython3",
   "version": "3.7.3"
  }
 },
 "nbformat": 4,
 "nbformat_minor": 2
}
