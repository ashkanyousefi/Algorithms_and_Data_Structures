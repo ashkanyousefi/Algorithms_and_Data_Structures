{
 "cells": [
  {
   "cell_type": "code",
   "execution_count": 3,
   "metadata": {},
   "outputs": [],
   "source": [
    "import csv\n",
    "with open('texts.csv', 'r') as f:\n",
    "    reader = csv.reader(f)\n",
    "    texts = list(reader)\n",
    "\n",
    "with open('calls.csv', 'r') as f:\n",
    "    reader = csv.reader(f)\n",
    "    calls = list(reader)"
   ]
  },
  {
   "cell_type": "code",
   "execution_count": 4,
   "metadata": {},
   "outputs": [
    {
     "name": "stdout",
     "output_type": "stream",
     "text": [
      "First record of texts, sending telephone number texts receiving telephone number at time timestamp \n",
      "Last record of calls, 98447 62998 calls (080)46304537 at time 30-09-2016 23:57:15, lasting 2151 seconds\n"
     ]
    }
   ],
   "source": [
    "\"\"\"\n",
    "Read file into texts and calls.\n",
    "It's ok if you don't understand how to read files.\n",
    "\"\"\"\n",
    "import csv\n",
    "with open('texts.csv', 'r') as f:\n",
    "    reader = csv.reader(f)\n",
    "    texts = list(reader)\n",
    "\n",
    "with open('calls.csv', 'r') as f:\n",
    "    reader = csv.reader(f)\n",
    "    calls = list(reader)\n",
    "\n",
    "\"\"\"\n",
    "TASK 0:\n",
    "What is the first record of texts and what is the last record of calls?\n",
    "Print messages:\n",
    "\"First record of texts, <incoming number> texts <answering number> at time <time>\"\n",
    "\"Last record of calls, <incoming number> calls <answering number> at time <time>, lasting <during> seconds\"\n",
    "\"\"\"\n",
    "\n",
    "print('First record of texts, {0} texts {1} at time {2}'.format(*texts[0]))\n",
    "print('Last record of calls, {0} calls {1} at time {2}, lasting {3} seconds'.format(*calls[-1]))\n",
    "\n"
   ]
  },
  {
   "cell_type": "code",
   "execution_count": null,
   "metadata": {},
   "outputs": [],
   "source": []
  },
  {
   "cell_type": "code",
   "execution_count": 7,
   "metadata": {},
   "outputs": [
    {
     "data": {
      "text/plain": [
       "'\\nTASK 1:\\nHow many different telephone numbers are there in the records? \\nPrint a message:\\n\"There are <count> different telephone numbers in the records.\"\\n'"
      ]
     },
     "execution_count": 7,
     "metadata": {},
     "output_type": "execute_result"
    }
   ],
   "source": [
    "\"\"\"\n",
    "Read file into texts and calls.\n",
    "It's ok if you don't understand how to read files.\n",
    "\"\"\"\n",
    "import csv\n",
    "with open('texts.csv', 'r') as f:\n",
    "    reader = csv.reader(f)\n",
    "    texts = list(reader)\n",
    "\n",
    "with open('calls.csv', 'r') as f:\n",
    "    reader = csv.reader(f)\n",
    "    calls = list(reader)\n",
    "\"\"\"\n",
    "TASK 1:\n",
    "How many different telephone numbers are there in the records? \n",
    "Print a message:\n",
    "\"There are <count> different telephone numbers in the records.\"\n",
    "\"\"\"\n"
   ]
  },
  {
   "cell_type": "code",
   "execution_count": 31,
   "metadata": {},
   "outputs": [],
   "source": [
    "Full_List=[]\n",
    "for row in calls:\n",
    "    Full_List.append(row[0])\n",
    "    Full_List.append(row[1])\n",
    "for row in texts[1:]:\n",
    "    Full_List.append(row[0])\n",
    "    Full_List.append(row[1])\n",
    "Full_List_Unique=set(Full_List)\n",
    "    \n",
    "\n",
    "    "
   ]
  },
  {
   "cell_type": "code",
   "execution_count": 32,
   "metadata": {},
   "outputs": [
    {
     "name": "stdout",
     "output_type": "stream",
     "text": [
      "570\n"
     ]
    }
   ],
   "source": [
    "print(len(Full_List_Unique))"
   ]
  },
  {
   "cell_type": "code",
   "execution_count": null,
   "metadata": {},
   "outputs": [],
   "source": [
    "Total=(len(calls)+len(texts))*2\n",
    "print('There are{0:6d} different telephone numbers in the records'.format(Total))"
   ]
  },
  {
   "cell_type": "code",
   "execution_count": null,
   "metadata": {},
   "outputs": [],
   "source": []
  },
  {
   "cell_type": "code",
   "execution_count": 33,
   "metadata": {},
   "outputs": [
    {
     "name": "stdout",
     "output_type": "stream",
     "text": [
      "There are   570 different telephone numbers in the records\n"
     ]
    }
   ],
   "source": [
    "\"\"\"\n",
    "Read file into texts and calls.\n",
    "It's ok if you don't understand how to read files.\n",
    "\"\"\"\n",
    "import csv\n",
    "with open('texts.csv', 'r') as f:\n",
    "    reader = csv.reader(f)\n",
    "    texts = list(reader)\n",
    "\n",
    "with open('calls.csv', 'r') as f:\n",
    "    reader = csv.reader(f)\n",
    "    calls = list(reader)\n",
    "\n",
    "\n",
    "\"\"\"\n",
    "TASK 1:\n",
    "How many different telephone numbers are there in the records? \n",
    "Print a message:\n",
    "\"There are <count> different telephone numbers in the records.\"\n",
    "\"\"\"\n",
    "\n",
    "Full_List=[]\n",
    "for row in calls:\n",
    "    Full_List.append(row[0])\n",
    "    Full_List.append(row[1])\n",
    "for row in texts[1:]:\n",
    "    Full_List.append(row[0])\n",
    "    Full_List.append(row[1])\n",
    "Full_List_Unique=len(set(Full_List))\n",
    "\n",
    "print('There are{0:6d} different telephone numbers in the records'.format(Full_List_Unique))"
   ]
  },
  {
   "cell_type": "code",
   "execution_count": null,
   "metadata": {},
   "outputs": [],
   "source": []
  },
  {
   "cell_type": "code",
   "execution_count": 25,
   "metadata": {},
   "outputs": [
    {
     "name": "stdout",
     "output_type": "stream",
     "text": [
      "(080)33251027\n"
     ]
    }
   ],
   "source": [
    "import csv\n",
    "import operator\n",
    "from collections import defaultdict\n",
    "\n",
    "with open('texts.csv', 'r') as f:\n",
    "    \n",
    "    reader = csv.reader(f)\n",
    "    texts = list(reader)\n",
    "\n",
    "with open('calls.csv', 'r') as f:\n",
    "    reader = csv.reader(f)\n",
    "    calls = list(reader)\n",
    "\n",
    "Phone_Call_Duration=defaultdict(lambda:0)\n",
    "\n",
    "for row in calls:\n",
    "    Phone_Call_Duration[row[0]]+=int(row[3])\n",
    "    Phone_Call_Duration[row[1]]+=int(row[3])\n",
    "    \n",
    "Max_finder=[(value,key) for key,value in Phone_Call_Duration.items()]\n",
    "print(max(Max_finder)[1])"
   ]
  },
  {
   "cell_type": "code",
   "execution_count": 26,
   "metadata": {},
   "outputs": [
    {
     "data": {
      "text/plain": [
       "90456"
      ]
     },
     "execution_count": 26,
     "metadata": {},
     "output_type": "execute_result"
    }
   ],
   "source": [
    "max(Phone_Call_Duration.items(), key=operator.itemgetter(1))[1]"
   ]
  },
  {
   "cell_type": "code",
   "execution_count": null,
   "metadata": {},
   "outputs": [],
   "source": []
  },
  {
   "cell_type": "code",
   "execution_count": null,
   "metadata": {},
   "outputs": [],
   "source": []
  },
  {
   "cell_type": "code",
   "execution_count": 11,
   "metadata": {},
   "outputs": [],
   "source": [
    "from collections import defaultdict\n",
    "Phone_Call_Duration=defaultdict(lambda:0)"
   ]
  },
  {
   "cell_type": "code",
   "execution_count": 12,
   "metadata": {},
   "outputs": [],
   "source": [
    "for row in calls:\n",
    "    Phone_Call_Duration[row[0]]+=int(row[3])\n",
    "    Phone_Call_Duration[row[1]]+=int(row[3])\n",
    "    "
   ]
  },
  {
   "cell_type": "code",
   "execution_count": null,
   "metadata": {},
   "outputs": [],
   "source": [
    "Phone_Call_Duration=updateD"
   ]
  },
  {
   "cell_type": "code",
   "execution_count": 9,
   "metadata": {},
   "outputs": [
    {
     "ename": "SyntaxError",
     "evalue": "invalid syntax (<ipython-input-9-95a04e128c93>, line 1)",
     "output_type": "error",
     "traceback": [
      "\u001b[1;36m  File \u001b[1;32m\"<ipython-input-9-95a04e128c93>\"\u001b[1;36m, line \u001b[1;32m1\u001b[0m\n\u001b[1;33m    dictionary = updateDict(i, dictionary key = max(dictionary, key=lambda x: dictionary[x])\u001b[0m\n\u001b[1;37m                                            ^\u001b[0m\n\u001b[1;31mSyntaxError\u001b[0m\u001b[1;31m:\u001b[0m invalid syntax\n"
     ]
    }
   ],
   "source": [
    "dictionary = updateDict(i, dictionary key = max(dictionary, key=lambda x: dictionary[x])"
   ]
  },
  {
   "cell_type": "code",
   "execution_count": 80,
   "metadata": {},
   "outputs": [
    {
     "ename": "ValueError",
     "evalue": "not enough values to unpack (expected 3, got 2)",
     "output_type": "error",
     "traceback": [
      "\u001b[1;31m---------------------------------------------------------------------------\u001b[0m",
      "\u001b[1;31mValueError\u001b[0m                                Traceback (most recent call last)",
      "\u001b[1;32m<ipython-input-80-74ef4de36ab4>\u001b[0m in \u001b[0;36m<module>\u001b[1;34m\u001b[0m\n\u001b[0;32m      2\u001b[0m \u001b[0mValues\u001b[0m\u001b[1;33m=\u001b[0m\u001b[1;33m[\u001b[0m\u001b[1;33m]\u001b[0m\u001b[1;33m\u001b[0m\u001b[1;33m\u001b[0m\u001b[0m\n\u001b[0;32m      3\u001b[0m \u001b[0mTotals\u001b[0m\u001b[1;33m=\u001b[0m\u001b[1;33m[\u001b[0m\u001b[1;33m]\u001b[0m\u001b[1;33m\u001b[0m\u001b[1;33m\u001b[0m\u001b[0m\n\u001b[1;32m----> 4\u001b[1;33m \u001b[1;32mfor\u001b[0m \u001b[0mkey\u001b[0m\u001b[1;33m,\u001b[0m\u001b[0mvalue\u001b[0m\u001b[1;33m,\u001b[0m\u001b[0mTotal\u001b[0m \u001b[1;32min\u001b[0m \u001b[0menumerate\u001b[0m\u001b[1;33m(\u001b[0m\u001b[0mPhone_Call_Duration\u001b[0m\u001b[1;33m)\u001b[0m\u001b[1;33m:\u001b[0m\u001b[1;33m\u001b[0m\u001b[1;33m\u001b[0m\u001b[0m\n\u001b[0m\u001b[0;32m      5\u001b[0m     \u001b[0mKeys\u001b[0m\u001b[1;33m.\u001b[0m\u001b[0mappend\u001b[0m\u001b[1;33m(\u001b[0m\u001b[0mkey\u001b[0m\u001b[1;33m)\u001b[0m\u001b[1;33m\u001b[0m\u001b[1;33m\u001b[0m\u001b[0m\n\u001b[0;32m      6\u001b[0m     \u001b[0mValues\u001b[0m\u001b[1;33m.\u001b[0m\u001b[0mappend\u001b[0m\u001b[1;33m(\u001b[0m\u001b[0mvalue\u001b[0m\u001b[1;33m)\u001b[0m\u001b[1;33m\u001b[0m\u001b[1;33m\u001b[0m\u001b[0m\n",
      "\u001b[1;31mValueError\u001b[0m: not enough values to unpack (expected 3, got 2)"
     ]
    }
   ],
   "source": [
    "Keys=[]\n",
    "Values=[]\n",
    "Totals=[]\n",
    "for key,value,Total in enumerate(Phone_Call_Duration):\n",
    "    Keys.append(key)\n",
    "    Values.append(value)\n",
    "    Totals.append(Total)\n"
   ]
  },
  {
   "cell_type": "code",
   "execution_count": 108,
   "metadata": {},
   "outputs": [],
   "source": [
    "Dictionary1={'Ashkan':20,'Nima':12,'Nassim':19,'Mahsa':60}\n"
   ]
  },
  {
   "cell_type": "code",
   "execution_count": 109,
   "metadata": {},
   "outputs": [
    {
     "data": {
      "text/plain": [
       "dict_items([('Ashkan', 20), ('Nima', 12), ('Nassim', 19), ('Mahsa', 60)])"
      ]
     },
     "execution_count": 109,
     "metadata": {},
     "output_type": "execute_result"
    }
   ],
   "source": [
    "Dictionary1.items()"
   ]
  },
  {
   "cell_type": "code",
   "execution_count": 110,
   "metadata": {},
   "outputs": [
    {
     "data": {
      "text/plain": [
       "'Ashkan'"
      ]
     },
     "execution_count": 110,
     "metadata": {},
     "output_type": "execute_result"
    }
   ],
   "source": [
    "min(Dictionary1)"
   ]
  },
  {
   "cell_type": "code",
   "execution_count": 111,
   "metadata": {},
   "outputs": [
    {
     "ename": "AttributeError",
     "evalue": "'dict' object has no attribute 'iteritems'",
     "output_type": "error",
     "traceback": [
      "\u001b[1;31m---------------------------------------------------------------------------\u001b[0m",
      "\u001b[1;31mAttributeError\u001b[0m                            Traceback (most recent call last)",
      "\u001b[1;32m<ipython-input-111-ae5e6f9c5ba9>\u001b[0m in \u001b[0;36m<module>\u001b[1;34m\u001b[0m\n\u001b[0;32m      1\u001b[0m \u001b[1;32mimport\u001b[0m \u001b[0moperator\u001b[0m\u001b[1;33m\u001b[0m\u001b[1;33m\u001b[0m\u001b[0m\n\u001b[0;32m      2\u001b[0m \u001b[0mstats\u001b[0m \u001b[1;33m=\u001b[0m \u001b[1;33m{\u001b[0m\u001b[1;34m'a'\u001b[0m\u001b[1;33m:\u001b[0m\u001b[1;36m1000\u001b[0m\u001b[1;33m,\u001b[0m \u001b[1;34m'b'\u001b[0m\u001b[1;33m:\u001b[0m\u001b[1;36m3000\u001b[0m\u001b[1;33m,\u001b[0m \u001b[1;34m'c'\u001b[0m\u001b[1;33m:\u001b[0m \u001b[1;36m100\u001b[0m\u001b[1;33m,\u001b[0m \u001b[1;34m'd'\u001b[0m\u001b[1;33m:\u001b[0m\u001b[1;36m3000\u001b[0m\u001b[1;33m}\u001b[0m\u001b[1;33m\u001b[0m\u001b[1;33m\u001b[0m\u001b[0m\n\u001b[1;32m----> 3\u001b[1;33m \u001b[0mmax\u001b[0m\u001b[1;33m(\u001b[0m\u001b[0mstats\u001b[0m\u001b[1;33m.\u001b[0m\u001b[0miteritems\u001b[0m\u001b[1;33m(\u001b[0m\u001b[1;33m)\u001b[0m\u001b[1;33m,\u001b[0m \u001b[0mkey\u001b[0m\u001b[1;33m=\u001b[0m\u001b[0moperator\u001b[0m\u001b[1;33m.\u001b[0m\u001b[0mitemgetter\u001b[0m\u001b[1;33m(\u001b[0m\u001b[1;36m1\u001b[0m\u001b[1;33m)\u001b[0m\u001b[1;33m)\u001b[0m\u001b[1;33m[\u001b[0m\u001b[1;36m0\u001b[0m\u001b[1;33m]\u001b[0m\u001b[1;33m\u001b[0m\u001b[1;33m\u001b[0m\u001b[0m\n\u001b[0m",
      "\u001b[1;31mAttributeError\u001b[0m: 'dict' object has no attribute 'iteritems'"
     ]
    }
   ],
   "source": [
    "import operator\n",
    "stats = {'a':1000, 'b':3000, 'c': 100, 'd':3000}\n",
    "max(stats.iteritems(), key=operator.itemgetter(1))[0]"
   ]
  },
  {
   "cell_type": "code",
   "execution_count": 73,
   "metadata": {},
   "outputs": [
    {
     "data": {
      "text/plain": [
       "3406"
      ]
     },
     "execution_count": 73,
     "metadata": {},
     "output_type": "execute_result"
    }
   ],
   "source": [
    "Phone_Call_Duration['(011)21017178']"
   ]
  },
  {
   "cell_type": "code",
   "execution_count": 71,
   "metadata": {},
   "outputs": [
    {
     "data": {
      "text/plain": [
       "301"
      ]
     },
     "execution_count": 71,
     "metadata": {},
     "output_type": "execute_result"
    }
   ],
   "source": [
    "Phone_Call_Duration['99617 74886']"
   ]
  },
  {
   "cell_type": "code",
   "execution_count": 63,
   "metadata": {},
   "outputs": [
    {
     "ename": "TypeError",
     "evalue": "get expected at least 1 arguments, got 0",
     "output_type": "error",
     "traceback": [
      "\u001b[1;31m---------------------------------------------------------------------------\u001b[0m",
      "\u001b[1;31mTypeError\u001b[0m                                 Traceback (most recent call last)",
      "\u001b[1;32m<ipython-input-63-070ae3884471>\u001b[0m in \u001b[0;36m<module>\u001b[1;34m\u001b[0m\n\u001b[1;32m----> 1\u001b[1;33m \u001b[0mmax\u001b[0m\u001b[1;33m(\u001b[0m\u001b[0mPhone_Call_Duration\u001b[0m\u001b[1;33m,\u001b[0m\u001b[0mkey\u001b[0m\u001b[1;33m=\u001b[0m\u001b[0mPhone_Call_Duration\u001b[0m\u001b[1;33m.\u001b[0m\u001b[0mget\u001b[0m\u001b[1;33m(\u001b[0m\u001b[1;33m)\u001b[0m\u001b[1;33m)\u001b[0m\u001b[1;33m\u001b[0m\u001b[1;33m\u001b[0m\u001b[0m\n\u001b[0m",
      "\u001b[1;31mTypeError\u001b[0m: get expected at least 1 arguments, got 0"
     ]
    }
   ],
   "source": [
    "max(Phone_Call_Duration,key=Phone_Call_Duration.get())"
   ]
  },
  {
   "cell_type": "code",
   "execution_count": 59,
   "metadata": {},
   "outputs": [
    {
     "ename": "AttributeError",
     "evalue": "'collections.defaultdict' object has no attribute 'iteritems'",
     "output_type": "error",
     "traceback": [
      "\u001b[1;31m---------------------------------------------------------------------------\u001b[0m",
      "\u001b[1;31mAttributeError\u001b[0m                            Traceback (most recent call last)",
      "\u001b[1;32m<ipython-input-59-236d86f2b550>\u001b[0m in \u001b[0;36m<module>\u001b[1;34m\u001b[0m\n\u001b[0;32m      1\u001b[0m \u001b[1;32mimport\u001b[0m \u001b[0moperator\u001b[0m\u001b[1;33m\u001b[0m\u001b[1;33m\u001b[0m\u001b[0m\n\u001b[1;32m----> 2\u001b[1;33m \u001b[0mmax\u001b[0m\u001b[1;33m(\u001b[0m\u001b[0mPhone_Call_Duration\u001b[0m\u001b[1;33m.\u001b[0m\u001b[0miteritems\u001b[0m\u001b[1;33m(\u001b[0m\u001b[1;33m)\u001b[0m\u001b[1;33m,\u001b[0m \u001b[0mkey\u001b[0m\u001b[1;33m=\u001b[0m\u001b[0moperator\u001b[0m\u001b[1;33m.\u001b[0m\u001b[0mitemgetter\u001b[0m\u001b[1;33m(\u001b[0m\u001b[1;36m1\u001b[0m\u001b[1;33m)\u001b[0m\u001b[1;33m)\u001b[0m\u001b[1;33m\u001b[0m\u001b[1;33m\u001b[0m\u001b[0m\n\u001b[0m",
      "\u001b[1;31mAttributeError\u001b[0m: 'collections.defaultdict' object has no attribute 'iteritems'"
     ]
    }
   ],
   "source": [
    "import operator\n",
    "max(Phone_Call_Duration.iteritems(), key=operator.itemgetter(1))"
   ]
  },
  {
   "cell_type": "code",
   "execution_count": null,
   "metadata": {},
   "outputs": [],
   "source": []
  },
  {
   "cell_type": "code",
   "execution_count": null,
   "metadata": {},
   "outputs": [],
   "source": []
  },
  {
   "cell_type": "code",
   "execution_count": 27,
   "metadata": {},
   "outputs": [],
   "source": [
    "Area=set()\n",
    "Mobile=set()\n"
   ]
  },
  {
   "cell_type": "code",
   "execution_count": null,
   "metadata": {},
   "outputs": [],
   "source": [
    "\n",
    "for row in calls:\n",
    "    if row[0][0:5]=='(080)':\n",
    "        \n",
    "        if row[1][0]=='(':\n",
    "            Area.add(row[1].split(')'))[0])\n",
    "        \n",
    "        if row[1][0]=='7' or '8' or '9':\n",
    "            Mobile.add(((row[1].split(' '))[0])[0:4])\n",
    "            \n",
    "            \n",
    "            \n",
    "            \n",
    "            \n",
    "            \n",
    "            \n",
    "    \n",
    "            \n",
    "    if row[0][0:5]=='(080)' and row[1][0]=='7':\n",
    "        Place_Holder=(row[1].split(' '))[0]\n",
    "        if Place_Holder not in Mobile:\n",
    "            Mobile.append(Place_Holder[0:4])\n",
    "            \n",
    "            \n",
    "    if row[0][0:5]=='(080)' and row[1][0]=='8':\n",
    "        Place_Holder=(row[1].split(' '))[0]\n",
    "        if Place_Holder not in Mobile:\n",
    "            Mobile.append(Place_Holder[0:4])\n",
    "            \n",
    "            \n",
    "    if row[0][0:5]=='(080)' and row[1][0]=='9':\n",
    "        Place_Holder=(row[1].split(' '))[0]\n",
    "        if Place_Holder not in Mobile:\n",
    "            Mobile.append(Place_Holder[0:4])\n",
    "\n",
    "print(len(Area))\n",
    "print(len(Mobile))\n",
    "\n",
    "#Step 2\n",
    "\n",
    "Banglore_received_calls=[]\n",
    "Total_calls=[]\n",
    "\n",
    "for row in calls:\n",
    "    if row[0][0:5]=='(080)' and row[1][0:5]=='(080)':\n",
    "        Place_Holder=row[1]\n",
    "        Banglore_received_calls.append(Place_Holder)\n",
    "        \n",
    "    if row[0][0:5]=='(080)':\n",
    "        Total_calls.append(row[1])\n",
    "\n",
    "    \n",
    "L_Banglore_received_calls=len(Banglore_received_calls)\n",
    "L_Total_calls=len(Total_calls)\n",
    "Percentage=(L_Banglore_received_calls/L_Total_calls)*100\n",
    "print('The total percentage of the Banglore calls {0:3.3f}%'.format(Percentage))\n",
    "\n"
   ]
  },
  {
   "cell_type": "code",
   "execution_count": null,
   "metadata": {},
   "outputs": [],
   "source": []
  },
  {
   "cell_type": "code",
   "execution_count": null,
   "metadata": {},
   "outputs": [],
   "source": []
  },
  {
   "cell_type": "code",
   "execution_count": null,
   "metadata": {},
   "outputs": [],
   "source": []
  },
  {
   "cell_type": "code",
   "execution_count": null,
   "metadata": {},
   "outputs": [],
   "source": []
  },
  {
   "cell_type": "code",
   "execution_count": null,
   "metadata": {},
   "outputs": [],
   "source": []
  },
  {
   "cell_type": "code",
   "execution_count": null,
   "metadata": {},
   "outputs": [],
   "source": []
  },
  {
   "cell_type": "code",
   "execution_count": null,
   "metadata": {},
   "outputs": [],
   "source": []
  },
  {
   "cell_type": "code",
   "execution_count": null,
   "metadata": {},
   "outputs": [],
   "source": []
  },
  {
   "cell_type": "code",
   "execution_count": null,
   "metadata": {},
   "outputs": [],
   "source": []
  }
 ],
 "metadata": {
  "kernelspec": {
   "display_name": "Python 3",
   "language": "python",
   "name": "python3"
  },
  "language_info": {
   "codemirror_mode": {
    "name": "ipython",
    "version": 3
   },
   "file_extension": ".py",
   "mimetype": "text/x-python",
   "name": "python",
   "nbconvert_exporter": "python",
   "pygments_lexer": "ipython3",
   "version": "3.7.3"
  }
 },
 "nbformat": 4,
 "nbformat_minor": 2
}
