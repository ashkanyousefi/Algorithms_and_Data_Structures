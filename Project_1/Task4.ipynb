{
 "cells": [
  {
   "cell_type": "markdown",
   "metadata": {},
   "source": [
    "### Task4\n",
    "The O(3n) as the program needs to go through 3 loops. I think there is a room to gain more efficieny by combining the loops. However the same comment as the Task3 will apply as the code will become more messy and complex to understand by combining the loops."
   ]
  },
  {
   "cell_type": "code",
   "execution_count": 5,
   "metadata": {},
   "outputs": [
    {
     "name": "stdout",
     "output_type": "stream",
     "text": [
      "These numbers could be telemarketers:\n",
      "\n",
      "\n",
      " 1400481538\n",
      "\n",
      " 1401747654\n",
      "\n",
      " 1402316533\n",
      "\n",
      " 1403072432\n",
      "\n",
      " 1403579926\n",
      "\n",
      " 1404073047\n",
      "\n",
      " 1404368883\n",
      "\n",
      " 1404787681\n",
      "\n",
      " 1407539117\n",
      "\n",
      " 1408371942\n",
      "\n",
      " 1408409918\n",
      "\n",
      " 1408672243\n",
      "\n",
      " 1409421631\n",
      "\n",
      " 1409668775\n",
      "\n",
      " 1409994233\n"
     ]
    }
   ],
   "source": [
    "\"\"\"\n",
    "Read file into texts and calls.\n",
    "It's ok if you don't understand how to read files.\n",
    "\"\"\"\n",
    "import csv\n",
    "\n",
    "with open('texts.csv', 'r') as f:\n",
    "    reader = csv.reader(f)\n",
    "    texts = list(reader)\n",
    "\n",
    "with open('calls.csv', 'r') as f:\n",
    "    reader = csv.reader(f)\n",
    "    calls = list(reader)\n",
    "\n",
    "\"\"\"\n",
    "TASK 4:\n",
    "The telephone company want to identify numbers that might be doing\n",
    "telephone marketing. Create a set of possible telemarketers:\n",
    "these are numbers that make outgoing calls but never send texts,\n",
    "receive texts or receive incoming calls.\n",
    "\n",
    "Print a message:\n",
    "\"These numbers could be telemarketers: \"\n",
    "<list of numbers>\n",
    "The list of numbers should be print out one per line in lexicographic order with no duplicates.\n",
    "\"\"\"\n",
    "Possible_Telemarketers=[]\n",
    "Received_calls=[]\n",
    "Received_Texts=[]\n",
    "Telemarketers=[]\n",
    "\n",
    "for row in calls:\n",
    "    Received_calls.append(row[1])\n",
    "    if row[0][0:3]=='140':\n",
    "        Possible_Telemarketers.append(row[0])\n",
    "\n",
    "# for each in Possible_Telemarketers:\n",
    "for row in texts:\n",
    "    if row[1][0:3]=='140':\n",
    "        Received_Texts.append(row[1])\n",
    "\n",
    "for each in Possible_Telemarketers:\n",
    "    if each not in (Received_calls or Received_Texts):\n",
    "        if each not in Telemarketers:\n",
    "            Telemarketers.append(each)\n",
    "            \n",
    "print(\"These numbers could be telemarketers:\\n\")  \n",
    "Telemarketers.sort()\n",
    "for each in Telemarketers:\n",
    "    print(\"\\n {0}\".format(each))\n",
    "\n"
   ]
  }
 ],
 "metadata": {
  "kernelspec": {
   "display_name": "Python 3",
   "language": "python",
   "name": "python3"
  },
  "language_info": {
   "codemirror_mode": {
    "name": "ipython",
    "version": 3
   },
   "file_extension": ".py",
   "mimetype": "text/x-python",
   "name": "python",
   "nbconvert_exporter": "python",
   "pygments_lexer": "ipython3",
   "version": "3.7.3"
  }
 },
 "nbformat": 4,
 "nbformat_minor": 2
}
