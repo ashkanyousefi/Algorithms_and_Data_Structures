{
 "cells": [
  {
   "cell_type": "code",
   "execution_count": null,
   "metadata": {},
   "outputs": [],
   "source": [
    "\"\"\"\n",
    "Read file into texts and calls.\n",
    "It's ok if you don't understand how to read files.\n",
    "\"\"\"\n",
    "import csv\n",
    "\n",
    "with open('texts.csv', 'r') as f:\n",
    "    reader = csv.reader(f)\n",
    "    texts = list(reader)\n",
    "\n",
    "with open('calls.csv', 'r') as f:\n",
    "    reader = csv.reader(f)\n",
    "    calls = list(reader)\n",
    "\"\"\"\n",
    "TASK 4:\n",
    "The telephone company want to identify numbers that might be doing\n",
    "telephone marketing. Create a set of possible telemarketers:\n",
    "these are numbers that make outgoing calls but never send texts,\n",
    "receive texts or receive incoming calls.\n",
    "\n",
    "Print a message:\n",
    "\"These numbers could be telemarketers: \"\n",
    "<list of numbers>\n",
    "The list of numbers should be print out one per line in lexicographic order with no duplicates.\n",
    "\"\"\"\n",
    "\n",
    "Possible_Telemarketers=[]\n",
    "Received_calls=[]\n",
    "Received_Texts=[]\n",
    "Sent_Texts=[]\n",
    "Telemarketers=set()\n",
    "\n",
    "for row in calls:\n",
    "    Received_calls.append(row[1])\n",
    "    Possible_Telemarketers.append(row[0])\n",
    "\n",
    "# for each in Possible_Telemarketers:\n",
    "for row in texts:\n",
    "    Sent_Texts.append(row[0])\n",
    "    Received_Texts.append(row[1])\n",
    "\n",
    "for each in Possible_Telemarketers:\n",
    "    if each not in (Received_calls or Received_Texts or Sent_Texts or Received_Texts):\n",
    "            Telemarketers.add(each)\n",
    "\n",
    "Final_List=sorted(Telemarketers)\n",
    "print(\"These numbers could be telemarketers:\\n\")  \n",
    "print(*Final_List,sep='\\n')"
   ]
  }
 ],
 "metadata": {
  "kernelspec": {
   "display_name": "Python 3",
   "language": "python",
   "name": "python3"
  },
  "language_info": {
   "codemirror_mode": {
    "name": "ipython",
    "version": 3
   },
   "file_extension": ".py",
   "mimetype": "text/x-python",
   "name": "python",
   "nbconvert_exporter": "python",
   "pygments_lexer": "ipython3",
   "version": "3.7.3"
  }
 },
 "nbformat": 4,
 "nbformat_minor": 2
}
