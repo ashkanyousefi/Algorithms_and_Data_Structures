{
 "cells": [
  {
   "cell_type": "code",
   "execution_count": 29,
   "metadata": {},
   "outputs": [
    {
     "name": "stdout",
     "output_type": "stream",
     "text": [
      "1 2 3\n",
      "6\n"
     ]
    }
   ],
   "source": [
    "# python3\n",
    "\n",
    "def max_pairwise_product(numbers):\n",
    "    n = len(numbers)\n",
    "    max_product = 0\n",
    "    if n>=2:\n",
    "        max_product=numbers[0]*numbers[1]\n",
    "    else:\n",
    "        max_product=0\n",
    "    return max_product\n",
    "\n",
    "\n",
    "if __name__ == '__main__':\n",
    "    input_numbers = [int(x) for x in input().split()]\n",
    "    input_numbers.sort(reverse=True)\n",
    "    print(max_pairwise_product(input_numbers))"
   ]
  }
 ],
 "metadata": {
  "kernelspec": {
   "display_name": "Python 3",
   "language": "python",
   "name": "python3"
  },
  "language_info": {
   "codemirror_mode": {
    "name": "ipython",
    "version": 3
   },
   "file_extension": ".py",
   "mimetype": "text/x-python",
   "name": "python",
   "nbconvert_exporter": "python",
   "pygments_lexer": "ipython3",
   "version": "3.7.3"
  }
 },
 "nbformat": 4,
 "nbformat_minor": 2
}
